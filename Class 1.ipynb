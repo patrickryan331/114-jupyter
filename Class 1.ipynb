{
 "cells": [
  {
   "cell_type": "code",
   "execution_count": 1,
   "id": "cffb6b9c-af85-47d9-9308-01d7b1d18e20",
   "metadata": {},
   "outputs": [
    {
     "name": "stdout",
     "output_type": "stream",
     "text": [
      "h\n",
      "e\n",
      "l\n",
      "l\n",
      "o\n",
      ",\n",
      " \n",
      "w\n",
      "o\n",
      "r\n",
      "l\n",
      "d\n"
     ]
    }
   ],
   "source": [
    "for char in \"hello, world\":\n",
    "    print(char)\n",
    "#Press shift+enter"
   ]
  },
  {
   "cell_type": "markdown",
   "id": "ee7358be-f9c7-4de8-9a16-e049ca55e0a5",
   "metadata": {},
   "source": [
    "# Problem 1 \n",
    "\n",
    "## Anagram Check\n",
    "\n",
    "given two strings as parameters, define a function (anagram_check) that retuns True if these are anagrams of each  other, False if otherwise\n",
    "\n",
    "### Criteria\n",
    "Two strings are anagrams of each othher if *all* the criteria below are met:\n",
    "1. They must be of eqal length (in number of letters).\n",
    "2. The must use the same letters the same amount of times.\n",
    "## Examples\n",
    "```\n",
    "heart and earth\n",
    "cars and scar\n",
    "star and rats\n",
    "```"
   ]
  },
  {
   "cell_type": "code",
   "execution_count": 2,
   "id": "2ae903c2-6c36-4aff-a98d-9eef95db80e9",
   "metadata": {},
   "outputs": [],
   "source": [
    "## In the popular harry potter saga, the villians name \"Voldemort\" is chhosen because it is an anagram of his original human name.\n",
    "## This is based on the phrases \"I am lord Voldemort\" and \"Tom Mavolo Riddle\""
   ]
  },
  {
   "cell_type": "code",
   "execution_count": 3,
   "id": "cf25a905-d1d1-4243-960e-730bc22fd33d",
   "metadata": {},
   "outputs": [],
   "source": [
    "# Poor Solution\n",
    "def anagram_check (string1, string2):\n",
    "    return sorted(string1) == sorted(string2)"
   ]
  },
  {
   "cell_type": "code",
   "execution_count": 4,
   "id": "dd45d132-cecf-40f8-adbc-cf8a2d533963",
   "metadata": {},
   "outputs": [
    {
     "data": {
      "text/plain": [
       "True"
      ]
     },
     "execution_count": 4,
     "metadata": {},
     "output_type": "execute_result"
    }
   ],
   "source": [
    "anagram_check(\"heart\", \"earth\")"
   ]
  },
  {
   "cell_type": "code",
   "execution_count": 6,
   "id": "7b786979-ca21-45d4-b423-1a5850e6251c",
   "metadata": {},
   "outputs": [
    {
     "data": {
      "text/plain": [
       "False"
      ]
     },
     "execution_count": 6,
     "metadata": {},
     "output_type": "execute_result"
    }
   ],
   "source": [
    "anagram_check(\"I am Lord Voldemort\", \"Tom Marvolo Riddle\")"
   ]
  },
  {
   "cell_type": "code",
   "execution_count": 7,
   "id": "d1d562e9-aded-4169-b046-56f788d45b30",
   "metadata": {},
   "outputs": [],
   "source": [
    "## different amount of spaces and upper case letters vs. lower case letters"
   ]
  },
  {
   "cell_type": "code",
   "execution_count": 8,
   "id": "a6da351a-8178-473d-b585-b43c06748b77",
   "metadata": {},
   "outputs": [],
   "source": [
    "# define my function \"anagram_check\" which receives string1 of type string and string 2 of type string:\n",
    "#    string 1 = string1 without spaces\n",
    "#    string2 = string2 without spaces\n",
    "#    string1 = string1 in lower case\n",
    "#    string2 = string2 in lower case\n",
    "#    if the length of string1 and the length of string2 are not equal:\n",
    "#        return False\n",
    "#    dicti_a = new Dictionary\n",
    "#    dicti_b = new Dictionary\n",
    "#    for number in the range between 0  and the length of string1:\n",
    "#        if the character at position 'number' in string1 is in dicti_a:\n",
    "#            add 1 to the value associated with that character\n",
    "#        otherwise:\n",
    "#            create a new key in dicti_a for the character with its value set to 1\n",
    "#        if the character at position 'number' in string2 is in dicti_b:\n",
    "#            add 1 to the value associated with that character\n",
    "#        otherwise:\n",
    "#            create a new key in dicti_b for the character with its value set to 1\n",
    "#    if dicti_a is equal to dicti_b:\n",
    "#        return True\n",
    "#    otherwise:\n",
    "#        return False"
   ]
  },
  {
   "cell_type": "code",
   "execution_count": 4,
   "id": "af7f3b7f-c907-4e3d-a5c9-4aa6cec60c4f",
   "metadata": {},
   "outputs": [],
   "source": [
    "def anagram_check (string1, string2):\n",
    "    string1 = string1.replace(\" \", \"\").lower()\n",
    "    string2 = string2.replace(\" \", \"\").lower()\n",
    "    \n",
    "    if len(string1) != len(string2):\n",
    "        return False\n",
    "        \n",
    "    dicti_a = {}\n",
    "    dicti_b = {}\n",
    "    \n",
    "    for i in range(len(string1)):\n",
    "        if string1[i] in dicti_a:\n",
    "            dicti_a[string1[i]] += 1\n",
    "        else:\n",
    "            dicti_a[string1[i]] =  1\n",
    "            \n",
    "    for i in range(len(string2)):\n",
    "        if string2[i] in dicti_b:\n",
    "            dicti_b[string2[i]] += 1\n",
    "        else:\n",
    "            dicti_b[string2[i]] = 1\n",
    "        \n",
    "    return dicti_a == dicti_b"
   ]
  },
  {
   "cell_type": "code",
   "execution_count": 48,
   "id": "185f01ee-3f5a-4b0a-b9dc-073aa973b9b8",
   "metadata": {},
   "outputs": [
    {
     "data": {
      "text/plain": [
       "True"
      ]
     },
     "execution_count": 48,
     "metadata": {},
     "output_type": "execute_result"
    }
   ],
   "source": [
    "anagram_check(\"heart\", \"earth\")"
   ]
  },
  {
   "cell_type": "code",
   "execution_count": 49,
   "id": "ade917e1-730d-409d-959a-28a08e5442ef",
   "metadata": {},
   "outputs": [
    {
     "data": {
      "text/plain": [
       "True"
      ]
     },
     "execution_count": 49,
     "metadata": {},
     "output_type": "execute_result"
    }
   ],
   "source": [
    "anagram_check(\"I am Lord Voldemort\", \"Tom Marvolo Riddle\")"
   ]
  },
  {
   "cell_type": "code",
   "execution_count": 3,
   "id": "b38a2c13-5d3a-440b-a4b4-772cdf934195",
   "metadata": {},
   "outputs": [
    {
     "data": {
      "text/plain": [
       "False"
      ]
     },
     "execution_count": 3,
     "metadata": {},
     "output_type": "execute_result"
    }
   ],
   "source": [
    "anagram_check(\"fart\", \"earth\")"
   ]
  }
 ],
 "metadata": {
  "kernelspec": {
   "display_name": "Python 3 (ipykernel)",
   "language": "python",
   "name": "python3"
  },
  "language_info": {
   "codemirror_mode": {
    "name": "ipython",
    "version": 3
   },
   "file_extension": ".py",
   "mimetype": "text/x-python",
   "name": "python",
   "nbconvert_exporter": "python",
   "pygments_lexer": "ipython3",
   "version": "3.12.4"
  }
 },
 "nbformat": 4,
 "nbformat_minor": 5
}
