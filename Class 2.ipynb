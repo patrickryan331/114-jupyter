{
 "cells": [
  {
   "cell_type": "code",
   "execution_count": 3,
   "id": "69502cf2-f879-402d-a1d3-b5c556181511",
   "metadata": {},
   "outputs": [],
   "source": [
    "# simplified implementation of stack (relying on built-ins)\n",
    "\n",
    "class Stack:\n",
    "    def __init__(self):\n",
    "        self.items = []\n",
    "\n",
    "    def push(self, element):\n",
    "        self.items.append(element)\n",
    "\n",
    "    def pop(self):\n",
    "        return self.items.pop()\n",
    "\n",
    "    # nice to have methods\n",
    "    def peek(self):\n",
    "        return self.items[len(self.items)-1]\n",
    "\n",
    "    def size(self):\n",
    "        return len(self.items)\n",
    "\n",
    "    def is_empty(self):\n",
    "        return self.items == []"
   ]
  },
  {
   "cell_type": "markdown",
   "id": "952842ba-2ad1-411f-baca-24e61e306fe7",
   "metadata": {},
   "source": [
    "# Problem 1\n",
    "\n",
    "## Inverting strings\n",
    "create a function that *must* use the `Stack` class above to invert a string\n",
    "\n",
    "In general, your function's flow should follow these steps:\n",
    "\n",
    "0. Your function should receive a string as a parameter\n",
    "1. Create an instance of `Stack`\n",
    "2. Push all the elements in the string onto your stack (via looping and calling the push method)\n",
    "3. Create an empty string\n",
    "4. Loop until the stack is empty, calling pop on your instance of `Stack` and feeding the popped element to your output string.\n",
    "5. Return the output string once the stack is empty (hint: consider the `is_empty` method).\n",
    "\n",
    "## Examples\n",
    "```\n",
    "rafael -> lwafar\n",
    "cars -> srac\n",
    "hello -> olleh\n",
    "```"
   ]
  },
  {
   "cell_type": "code",
   "execution_count": 5,
   "id": "abd594d2-a758-4d02-9b14-54edb125724b",
   "metadata": {},
   "outputs": [],
   "source": [
    "# define a function \"inverted strings\" which recieves string1 of type string :\n",
    "#  inverted_string(string1)\n",
    "#  create an instance of stack:\n",
    "#      stack = Stack()\n",
    "#  use push function to push string into stack\n",
    "\n",
    "#  create an empty string:\n",
    "#      string1 = []\n",
    "#  create a loop to push each character of the string onto the stack\n",
    "#\n",
    "#  return reversed string"
   ]
  },
  {
   "cell_type": "code",
   "execution_count": 8,
   "id": "b18570b3-1383-497a-9514-652c89dba366",
   "metadata": {},
   "outputs": [],
   "source": [
    "def inverted_string(string1):\n",
    "    stack = Stack()\n",
    "    \n",
    "    for char in string1:\n",
    "        stack.push(char)\n",
    "\n",
    "    reversed_string = \"\"\n",
    "\n",
    "    while not stack.is_empty():\n",
    "        reversed_string += stack.pop()\n",
    "\n",
    "    return reversed_string"
   ]
  },
  {
   "cell_type": "code",
   "execution_count": 9,
   "id": "a2e8ec59-a64d-4b0d-9d0d-b2977b40ccf4",
   "metadata": {},
   "outputs": [
    {
     "data": {
      "text/plain": [
       "'kcirtap'"
      ]
     },
     "execution_count": 9,
     "metadata": {},
     "output_type": "execute_result"
    }
   ],
   "source": [
    "inverted_string(\"patrick\")"
   ]
  },
  {
   "cell_type": "code",
   "execution_count": 9,
   "id": "668dddd6-e356-4828-a2e9-d3d19e79cde4",
   "metadata": {},
   "outputs": [],
   "source": [
    "# From scratch implementation of Stack\n",
    "\n",
    "class StackII:\n",
    "    class __Node:\n",
    "        def __init__(self, data):\n",
    "            self.data = data\n",
    "            self.below = None\n",
    "            \n",
    "    def __init__(self):\n",
    "        self.top = None                   # when self.top is None this means the stack is empty\n",
    "\n",
    "    def push(self, value):\n",
    "        new_node = self.__Node(value)\n",
    "        if not self.top:                  # if self.top is set to None\n",
    "            self.top = new_node\n",
    "        else:\n",
    "            old_top = self.top\n",
    "            new_node.below = old_top\n",
    "            self.top = new_node\n",
    "            \n",
    "    def pop(self):\n",
    "        if self.top:\n",
    "            datum = self.top.data\n",
    "            self.top = self.top.below\n",
    "            return datum\n",
    "        raise IndexError(\"Stack is empty\")\n",
    "\n",
    "    \n",
    "    # nice to have methods\n",
    "    def peek(self):                                 # easy (can be done in 1 line of code)\n",
    "        return self.top.data if self.top else None  # peak operation shows you the data point on the topmost node, without removing it from the stack\n",
    "\n",
    "    def size(self):                                 # challenging (do last)\n",
    "        count = 0                                   # This method counts the number of nodes in our stack\n",
    "        current_node = self.top\n",
    "        while current_node:\n",
    "            count += 1\n",
    "            current_node = current_node.below\n",
    "        return count\n",
    "\n",
    "    def is_empty(self):                             # easy (can be done in 1 line of code)\n",
    "        return self.top is None                     # returns True  when the stack is empty, False otherwise "
   ]
  },
  {
   "cell_type": "code",
   "execution_count": 10,
   "id": "2e5291a4-e446-4f26-9efe-ebdfd536ba04",
   "metadata": {},
   "outputs": [],
   "source": [
    "# PEEK\n",
    "# It checks if self.top is not None. If it is not None, it returns self.top.data.\n",
    "\n",
    "# SIZE\n",
    "# counts the number of elements in the stack and returns the count\n",
    "# initalize a count with  '0'\n",
    "# traverse stack starting from the top\n",
    "# add a '+1' for each node counted until it reaches the bottom\n",
    "# return count\n",
    "\n",
    "# IS_EMPTY\n",
    "# check if the stack is empty\n",
    "# returns True if self.top is none\n",
    "# returns false if otherwise"
   ]
  },
  {
   "cell_type": "code",
   "execution_count": 11,
   "id": "101122d5-e630-4d96-8885-972d5b44c105",
   "metadata": {},
   "outputs": [],
   "source": [
    "# simplified implementation of Queue (relying on built ins)\n",
    "\n",
    "class Queue:\n",
    "    def __init__(self):\n",
    "        self.items = []\n",
    "\n",
    "    def enqueue(self, value):\n",
    "        self.items.insert(0, value)\n",
    "\n",
    "    #nice to have methods\n",
    "    def peek(self):\n",
    "        return self.items[len(self.items)-1]\n",
    "\n",
    "    def size(self):\n",
    "        return len(self.items)\n",
    "\n",
    "    def is_empty(self):\n",
    "        return self.items == []"
   ]
  },
  {
   "cell_type": "markdown",
   "id": "8eedbd98-7f69-4d25-b9c6-a02ed92c1a1f",
   "metadata": {},
   "source": [
    "# Problem 2\n",
    "\n",
    "## From scratch implementation of Queue\n",
    "Generate a class called QueueII which does not rely on built-ins yet represents the operations required to qualify as a queue (considering the ordering principle  whichh is FIFO --  first in, first out).\n",
    "\n",
    "### Acceptance Criteria\n",
    "1. You must have an enqueue  method, which adds new element to the back or rear of the queue\n",
    "2. You must have a dequeue method, which removes and returns elements from the front of the queue\n",
    "\n",
    "## Bonus\n",
    "Impliment all the \" nice to have\"  methods on QueueII and validate them by testing manually"
   ]
  },
  {
   "cell_type": "code",
   "execution_count": null,
   "id": "5e380be4-00f0-47d6-addd-a117598397bc",
   "metadata": {},
   "outputs": [],
   "source": [
    "# ENQUEUE - Inserts an element at the end of a queue (rear)\n",
    "# create a new node with value\n",
    "# empty queue check: if  the queue is empty both front and rear are set to new node\n",
    "# non empty queue : next pointer of rear is set to new node, rear pointer updated to reference new node\n",
    "\n",
    "# DEQUEUE -  Removes and returns an element that is at the front end of a queue.\n",
    "# empty queue check: if empty the method returns None\n",
    "# retrieve and remove the  front value -  store front node in \"dequeued_value\", then front pointer is updated to next node.\n",
    "# update the rear pointer if the queue is empty\n",
    "# return \"dequeued_value\""
   ]
  },
  {
   "cell_type": "code",
   "execution_count": 7,
   "id": "b5a5d129-1944-45db-9a5d-7208f14205a4",
   "metadata": {},
   "outputs": [],
   "source": [
    "# From scratch implementation of Queue (no built ins)\n",
    "#Boilerplate\n",
    "\n",
    "class QueueII:\n",
    "    class __Node:\n",
    "        def __init__(self, data):\n",
    "            self.data = data\n",
    "            self.next  = None\n",
    "\n",
    "    def __init__(self):\n",
    "        self.rear = None\n",
    "        self.front = None\n",
    "\n",
    "    def enqueue(self, value):\n",
    "        new_node = self.__Node(value)\n",
    "        \n",
    "        if not self.rear:\n",
    "            self.rear = new_node\n",
    "            self.front = new_node\n",
    "\n",
    "        else:\n",
    "            self.rear.next  =  new_node\n",
    "            self.rear =  new_node\n",
    "            \n",
    "    def dequeue(self):\n",
    "        if not self.front:\n",
    "            return None\n",
    "\n",
    "        dequeued_value = self.front.data\n",
    "        self.front = self.front.next\n",
    "\n",
    "        if not self.front:\n",
    "            self.rear = None\n",
    "\n",
    "        return dequeued_value\n",
    "            "
   ]
  }
 ],
 "metadata": {
  "kernelspec": {
   "display_name": "Python 3 (ipykernel)",
   "language": "python",
   "name": "python3"
  },
  "language_info": {
   "codemirror_mode": {
    "name": "ipython",
    "version": 3
   },
   "file_extension": ".py",
   "mimetype": "text/x-python",
   "name": "python",
   "nbconvert_exporter": "python",
   "pygments_lexer": "ipython3",
   "version": "3.12.4"
  }
 },
 "nbformat": 4,
 "nbformat_minor": 5
}
